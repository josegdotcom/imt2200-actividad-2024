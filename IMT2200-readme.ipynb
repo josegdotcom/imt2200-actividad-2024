{
 "cells": [
  {
   "cell_type": "markdown",
   "metadata": {},
   "source": [
    "# <img style=\"float: left; padding-right: 20px; width: 200px\" src=\"https://raw.githubusercontent.com/raxlab/imt2200-data/main/media/logo.jpg\">  IMT 2200 - Introducción a Ciencia de Datos\n",
    "**Pontificia Universidad Católica de Chile**<br>\n",
    "**Instituto de Ingeniería Matemática y Computacional**<br>\n",
    "**Semestre 2024-S2**<br>\n",
    "**Profesor:** Rodrigo A. Carrasco <br>"
   ]
  },
  {
   "cell_type": "markdown",
   "metadata": {},
   "source": [
    "# <h1><center>Proyecto de Ciencia de Datos</center></h1>\n",
    "\n",
    "Este documento detalla el proyecto semestral. Las fechas límite importantes son:\n",
    "- Entrega de Propuesta: martes 8 de octubre a las 23:59 hrs.\n",
    "- Entrega del repositorio: viernes 22 de noviembre a las 23:59 hrs.\n",
    "- Entrega de la página web y video: viernes 29 de noviembre a las 23:59 hrs.\n",
    "- Enrega de evaluación de videos: viernes 6 de diciembre a las 23:59 hrs."
   ]
  },
  {
   "cell_type": "markdown",
   "metadata": {},
   "source": [
    "## 1. Objetivo\n",
    "\n",
    "El objetivo de este proyecto es integrar los conceptos estudiados a lo largo de todo el curso. Para ello deben desarrollar el proceso completo de ciencia de datos para resolver una pregunta sobre algún tema a su elección. Esto comprende la adquisición y procesamiento de datos, análisis exploratorio, visualización de datos, análisis estadístico, modelamiento y comunicación de resultados.\n",
    "\n",
    "El problema a abordar puede estar relacionado a cualquier tema de interés científico, social o comercial que ustedes tengan. Para que su proyecto pueda ser desarrollado exitosamente, es importante que la pregunta a resolver sea suficientemente específica, cuantificable (de manera que pueda ser abordada en base a datos), accionable (es decir, que la respuesta sirva para definir acciones o decisiones) y  relevante. Además, el problema debe ser factible de resolver dentro de un tiempo acotado. Puede encontrar un buen resumen de estos puntos en el siguiente artículo:\n",
    "\n",
    "https://towardsdatascience.com/7-steps-to-a-successful-data-science-project-b452a9b57149"
   ]
  },
  {
   "cell_type": "markdown",
   "metadata": {},
   "source": [
    "## 2. Metodología de trabajo.\n",
    "\n",
    "* El proyecto se desarrollará en los grupos de trabajo definidos al inicio del semestre. Las entregas consistirán de un documento de propuesta, una presentación final, y una entrega del desarrollo completo en un sitio web armado por ustedes.\n",
    "\n",
    "* El proyecto debe ser desarrollado en lenguaje Python, y utilizar datos de acceso públicos o privados, siempre que se respeten las políticas de uso y publicación de los mismos.\n",
    "\n",
    "* Para el desarrollo y entregas del proyecto se utilizará la plataforma GitHub. Cada equipo deberá crear un repositorio público que albergará los datos y códigos del proyecto, y una página web para comunicar sus resultados, creada mediante GitHub Pages (https://pages.github.com).\n",
    "\n",
    "* Este repositorio será el **único canal oficial de entrega del proyecto**, y las correcciones se realizarán sobre la última versión modificada antes del plazo definido para cada entregable.\n",
    "\n",
    "* Durante el semestre, se ha habilitado en Canvas un foro de discusión específico para el proyecto, para canalizar todas las dudas que surjan en el curso. Además, en caso de requerirlo se podrán agendar horas de consulta con el profesor o las ayudantes del curso."
   ]
  },
  {
   "cell_type": "markdown",
   "metadata": {},
   "source": [
    "## 3. Entregables.\n",
    "\n",
    "\n",
    "### 3.1 Propuesta de proyecto (martes 8 de octubre a las 23:59 hrs.)\n",
    "\n",
    "Cada equipo podrá definir su propio tema y datos de trabajo en torno a los cuales deberá plantear un problema a resolver en base a ciencia de datos. Como primer entregable, cada equipo deberá generar una **Propuesta del proyecto** a desarrollar, la cual consta de una propuesta escrita, y una muestra de los datos a utilizar. La propuesta escrita debe incluir los siguientes puntos:\n",
    "\n",
    "- **Título del proyecto.**\n",
    "\n",
    "- **Contexto y motivación**: discuta la motivación y razones para su elección del proyecto, incluyendo el contexto y alguna investigación que haya incluido en su decisión. Comente también sobre la audiencia objetivo de su análisis (quién será el tomador de decisiones que se apoyará en su trabajo).\n",
    "\n",
    "- **Objetivos**: describa los objetivos científicos y de inferencia de su proyecto. ¿Qué pregunta espera resolver o responder, y para qué? ¿Cuáles son los beneficios o accionables que podría lograr mediante este proyecto? ¿Cuál es la audiencia objetivo de su análisis?\n",
    "\n",
    "- **Datos**: describa los datos a utilizar, sus características (variables, tipo, formato, volumen), origen y forma de recolección. Los datos pueden provenir de fuentes privadas (siempre que no tengan restricciones de uso o publicación), de fuentes públicas (gobierno, plataformas de datos abiertos, web, etc.) o pueden ser recolectados mediante algún método propuesto por su equipo (Ej. web scrapping, Twitter, RRSS, etc.).\n",
    "\n",
    "- **Preguntas de investigación**: proponga al menos 5 preguntas específicas que buscarán responder con base en los datos presentados. Estas preguntas pueden ser relativas a relaciones entre variables, capacidad de predicción de una variable, clasificación, identificación de clusters o categorías, etc.\n",
    "\n",
    "- **Diseño tentativo**: explique brevemente los métodos computacionales y estadísticos que espera usar en su análisis.\n",
    "\n",
    "La parte escrita puede ser entregada en formato PDF como un informe. Además, deben incluirse los archivos de datos crudos con los que se propone trabajar, o al menos una muestra de ellos. Todo ello debe quedar disponible en el repositorio del proyecto.\n",
    "\n",
    "El objetivo de esta propuesta es validar y eventualmente ajustar la propuesta de trabajo de cada equipo, que puede ser modificada a lo largo de su desarrollo. \n",
    "\n",
    "### 3.2\tRepositorio GitHub, Jupyter Notebook y Códigos (viernes 23 de noviembre a las 23:59 hrs.)\n",
    "\n",
    "Cada grupo deberá entregar un compilado de los datos y códigos utilizados en su desarrollo, de manera que éste sea completamente replicable, desde los datos crudos hasta el producto final. Los códigos deben estar escritos en forma ordenada y eficiente, con comentarios para enteder qué hace cada parte, de manera que sean fácilmente legibles y reproducibles. Si no se entiende lo que hace una parte del código puede ser evaluado negativamente.\n",
    "\n",
    "El desarrollo debe estar estructurado en forma de un Jupyter Notebook, que incluya los siguientes elementos:\n",
    "\n",
    "- **Contexto y motivación:** describa el contexto y objetivos del proyecto, para una audiencia que no tiene información previa respecto a él. Incluya referencias, artículos o discusiones que le hayan servido de motivación.<br>\n",
    "\n",
    "- **Preguntas objetivo:** ¿cuáles son las preguntas que busca responder mediante su análisis? ¿Cómo han evolucionado sus preguntas a lo largo del proyecto, y si han aparecido otras nuevas en el camino? <br>\n",
    "\n",
    "- **Datos:** describa los datos utilizados y su origen, y documente los procedimientos de recolección, preparación y transformación de datos. Describa los datos indicando el tipo de datos, su estructura y los elementos que se describen en la bae de datos.<br>\n",
    "\n",
    "- **Análisis exploratorio de datos:** describa el proceso de exploración de sus datos, incluyendo visualizaciones, análisis gráficos, análisis estadísticos, etc. Explique los resultados y conclusiones preliminares obtenidas, y cómo estos influyen o motivan el método de modelamiento elegido. Justifique todas las decisiones adoptadas, tanto la elección de herramientas como las elecciones de visualización.<br>\n",
    "\n",
    "- **Análisis de datos:** describa y documente los métodos computacionales y estadísticos aplicados al modelamiento de sus datos. Justifique las elecciones y decisiones adoptadas (ej: selección de variables y parámetros, configuración de algoritmos, normalizaciones, validaciones, etc.), y evalúe sus resultados en base a métricas apropiadas al modelo elaborado (Ej. error cuadrático, intervalo de confiabilidad, precisión, recall, F1, matriz de confusión, etc.) <br>\n",
    "\n",
    "- **Resumen de los resultados:** explique narrativa y visualmente sus resultados, cómo estos responden a la pregunta original.<br>\n",
    "\n",
    "- **¿Qué podría salir mal?:** explique las posibles limitaciones o sesgos de sus datos o análisis. Identifique qué problemas se podrían generar a partir de su solución o de las decisiones que esta recomiende.<br>\n",
    "\n",
    "El Notebook, datos y códigos asociados deberán estar disponible en el repositorio del proyecto al acumplirse el plazo de entrega estipulado. Todo código o documento subido posteriormente a la fecha límite no será considerado en la evaluación de la entrega.\n",
    "\n",
    "\n",
    "### 3.3 Página web del proyecto (viernes 29 de noviembre a las 23:59 hrs.)\n",
    "\n",
    "Asociado al mismo repositorio, cada equipo deberá crear una página tipo GitHub Pages para comunicar y publicar los resultados de su proyecto. Esta página tiene como objetivo relatar en forma efectiva los principales objetivos y hallazgos del proyecto, incluyendo texto narrativo y figuras, en un lenguaje y formato adecuado para público general. Los códigos y datos estarán enlazados a la página web.\n",
    "\n",
    "\n",
    "### 3.4 Video con Presentación (viernes 29 de noviembre a las 23:59 hrs.)\n",
    "\n",
    "* Cada equipo entregará un video con una presentación de **10 minutos** de duración máximo. Esta presentación debe enfocarse en las contribuciones y resultados del proyecto más que en los aspectos técnicos, y destacar los hallazgos y conclusiones del proyecto, o mensajes centrales que la audiencia debería recordar.\n",
    "* Todos en el equipo deberán presentar y se entregará una nota individual por la presentación.\n",
    "* Cada alumno deberá evaluar tres videos posteriormente, con una rúbrica que entregaremos.\n",
    "* El enlace al video debe ser subido a Canvas a más tardar el viernes 29 de noviembre a las 23:59 hrs."
   ]
  },
  {
   "cell_type": "markdown",
   "metadata": {},
   "source": [
    "## 4. Requisitos generales. \n",
    "\n",
    "- **Datos:** los datos del proyecto pueden obtenerse de cualquier fuente pública o privada, pero su extracción debe estar debidamente documentada en el código. Su proyecto debe considerar al menos **2 datasets** distintos, que se puedan combinar para realizar el análisis propuesto. El dataset combinado debe tener *al menos* 7 variables relevantes para el análisis y al menos 100 registros. **No** está permitido usar datos de repositorios de proyectos de Ciencia de Datos como: Kaggle, UCI Machine Learning Repository, Datacamp, etc., pero puede ir a las fuentes de algunos de esos sitios y obtener los datos de esa fuente original.\n",
    "\n",
    "- **Análisis de datos:** En la sección de *Análisis de Datos* debe incluirse al menos uno de los modelos o algoritmos que veremos en el curso: regresión, clasificación, clustering. El análisis de resultados debe considerar las métricas típicamente utilizadas para cada tipo de algoritmo. No se evaluará la precisión de los modelos desarrollados, sino la coherencia, rigurosidad, buena implementación y evaluación de los mismos.\n",
    "\n",
    "- **Cuestionamiento:** En la sección de *¿Qué podría salir mal?* asociados al proyecto, deben cuestionar los objetivos y resultados de su proyecto desde un punto de vista ético y asociado a los problemas que podría generar su solución o recomendación. Pueden usar ejemplos asociados al libro *Weapons of Math Descruction* para aterrizar algunos problemas que puedan aparecer.\n",
    "\n",
    "- **Códigos**: todos los códigos deben estar en lenguaje Python, escritos en forma ordenada y siguiendo buenas prácticas de programación (eficiencia, reusabilidad, modularización, uso de anotaciones, etc.). Se evaluará la calidad y estructura de los Notebooks o códigos asociados. Todo el código entregado debe ser escrito únicamente por los integrantes del grupo. Cualquier elemento no escrito por ustedes, debe ser indicado cláramente y no será considerado en la parte de \"Novedad y Trabajo\" de la rúbrica de evaluación."
   ]
  },
  {
   "cell_type": "markdown",
   "metadata": {},
   "source": [
    "## 5. Evaluación.\n",
    "\n",
    "La nota final del proyecto se calculará en base a la ponderación de los cuatro entregables:\n",
    "\n",
    "- **Propuesta del proyecto:** 20%.\n",
    "- **Repositorio y página GitHub:** 60%.\n",
    "- **Presentación final (nota individual):** 20%.\n",
    "\n",
    "Para cada entregable, se publicará una rúbrica detallada con los elementos a incluir y evaluar. \n",
    "\n",
    "Ustedes además en forma individual deberán evaluar 3 videos con una rúbrica que entregaremos, hacinedo una critica constructiva del trabajo. La crítica será evaluada y su nota afectará **en forma individual** la nota del repositorio."
   ]
  },
  {
   "cell_type": "code",
   "execution_count": null,
   "metadata": {},
   "outputs": [],
   "source": []
  }
 ],
 "metadata": {
  "kernelspec": {
   "display_name": "Python 3 (ipykernel)",
   "language": "python",
   "name": "python3"
  },
  "language_info": {
   "codemirror_mode": {
    "name": "ipython",
    "version": 3
   },
   "file_extension": ".py",
   "mimetype": "text/x-python",
   "name": "python",
   "nbconvert_exporter": "python",
   "pygments_lexer": "ipython3",
   "version": "3.11.5"
  }
 },
 "nbformat": 4,
 "nbformat_minor": 2
}
